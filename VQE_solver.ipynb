{
 "cells": [
  {
   "cell_type": "code",
   "execution_count": 4,
   "metadata": {},
   "outputs": [],
   "source": [
    "import qulacs\n",
    "from openfermion.transforms import get_fermion_operator, jordan_wigner\n",
    "from openfermion.transforms import get_sparse_operator\n",
    "from openfermion.hamiltonians import MolecularData\n",
    "from openfermionpyscf import run_pyscf\n",
    "from scipy.optimize import minimize\n",
    "from pyscf import fci\n",
    "import numpy as np\n",
    "import matplotlib.pyplot as plt\n",
    "%matplotlib inline"
   ]
  },
  {
   "cell_type": "code",
   "execution_count": 7,
   "metadata": {},
   "outputs": [],
   "source": [
    "basis='sto-3g'\n",
    "multiplicity=1\n",
    "charge=0\n",
    "distance=0.977\n",
    "geometry=[['H',[0,0,0]],['H',[0,0,distance]]]\n",
    "description='tmp'\n",
    "molecule=MolecularData(geometry,basis,multiplicity,charge,description)\n",
    "molecule=run_pyscf(molecule,run_scf=1,run_fci=1)\n",
    "n_qubit=molecule.n_qubits\n",
    "n_ele=molecule.n_electrons\n",
    "fermionic_hamiltonian=get_fermion_operator(molecule.get_molecular_hamiltonian())\n",
    "jw_hamiltonian=jordan_wigner(fermionic_hamiltonian)"
   ]
  },
  {
   "cell_type": "code",
   "execution_count": 8,
   "metadata": {},
   "outputs": [
    {
     "data": {
      "text/plain": [
       "(-0.31349601534094224+0j) [] +\n",
       "(-0.04883472636540648+0j) [X0 X1 Y2 Y3] +\n",
       "(0.04883472636540648+0j) [X0 Y1 Y2 X3] +\n",
       "(0.04883472636540648+0j) [Y0 X1 X2 Y3] +\n",
       "(-0.04883472636540648+0j) [Y0 Y1 X2 X3] +\n",
       "(0.13978238294522735+0j) [Z0] +\n",
       "(0.1576263055158343+0j) [Z0 Z1] +\n",
       "(0.10745382591353006+0j) [Z0 Z2] +\n",
       "(0.15628855227893657+0j) [Z0 Z3] +\n",
       "(0.13978238294522735+0j) [Z1] +\n",
       "(0.15628855227893657+0j) [Z1 Z2] +\n",
       "(0.10745382591353006+0j) [Z1 Z3] +\n",
       "(-0.13686895093682833+0j) [Z2] +\n",
       "(0.16419290100986608+0j) [Z2 Z3] +\n",
       "(-0.13686895093682833+0j) [Z3]"
      ]
     },
     "execution_count": 8,
     "metadata": {},
     "output_type": "execute_result"
    }
   ],
   "source": [
    "jw_hamiltonian"
   ]
  },
  {
   "cell_type": "code",
   "execution_count": 9,
   "metadata": {},
   "outputs": [],
   "source": [
    "from qulacs import QuantumState, QuantumCircuit"
   ]
  },
  {
   "cell_type": "code",
   "execution_count": 10,
   "metadata": {},
   "outputs": [],
   "source": [
    "from qulacs.gate import CZ, RY, RZ, merge\n",
    "depth = n_qubit"
   ]
  },
  {
   "cell_type": "code",
   "execution_count": 15,
   "metadata": {},
   "outputs": [],
   "source": [
    "from qulacs import Observable\n",
    "from qulacs.observable import create_observable_from_openfermion_text\n",
    "qulacs_hamiltonian= create_observable_from_openfermion_text(str(jw_hamiltonian))"
   ]
  },
  {
   "cell_type": "code",
   "execution_count": 11,
   "metadata": {},
   "outputs": [],
   "source": [
    "def he_ansatz_circuit(n_qubit, depth, theta_list):\n",
    "    '''\n",
    "    Returns hardware efficient ansatz circuit.\n",
    "    \n",
    "    Args:\n",
    "        n_qubit\n",
    "        depth\n",
    "        theta_list\n",
    "    Returns:\n",
    "        qulacs.QuantumCircuit\n",
    "    '''\n",
    "    circuit=QuantumCircuit(n_qubit)\n",
    "    for d in range(depth):\n",
    "        for i in range(n_qubit):\n",
    "            circuit.add_gate(merge(RY(i, theta_list[2*i+2*n_qubit*d]),RZ(i, theta_list[2*i+1+2*n_qubit*d])))\n",
    "        for i in range(n_qubit//2):\n",
    "            circuit.add_gate(CZ(2*i,2*i+1))\n",
    "        for i in range(n_qubit//2-1):\n",
    "            circuit.add_gate(CZ(2*i+1,2*i+2))\n",
    "    for i in range(n_qubit):\n",
    "        circuit.add_gate(merge(RY(i, theta_list[2*i+2*n_qubit*depth]),RZ(i, theta_list[2*i+1+2*n_qubit*depth])))\n",
    "    return circuit"
   ]
  },
  {
   "cell_type": "code",
   "execution_count": 13,
   "metadata": {},
   "outputs": [],
   "source": [
    "def cost(theta_list):\n",
    "    state=QuantumState(n_qubit)\n",
    "    circuit=he_ansatz_circuit(n_qubit, depth, theta_list)\n",
    "    circuit.update_quantum_state(state)\n",
    "    return qulacs_hamiltonian.get_expectation_value(state)"
   ]
  },
  {
   "cell_type": "code",
   "execution_count": 20,
   "metadata": {},
   "outputs": [],
   "source": [
    "hist=[]\n",
    "init_theta_list=np.random.random(2*n_qubit*(depth+1))*1e-1\n",
    "hist.append(cost(init_theta_list))\n",
    "method='BFGS'\n",
    "options={'disp': True,'maxiter':50,'gtol': 1e-6}\n",
    "opt=minimize(cost,init_theta_list,method=method,callback=lambda x: hist.append(cost(x)))\n"
   ]
  },
  {
   "cell_type": "code",
   "execution_count": 21,
   "metadata": {},
   "outputs": [
    {
     "data": {
      "text/plain": [
       "[0.4903270911806086,\n",
       " -0.15652438655642456,\n",
       " -0.5888762488054455,\n",
       " -0.6056665100476724,\n",
       " -0.6317582441104761,\n",
       " -0.6777077161871174,\n",
       " -0.7074051362749617,\n",
       " -0.7212490950057864,\n",
       " -0.7377159291605135,\n",
       " -0.8222800269523121,\n",
       " -0.8341778623204754,\n",
       " -0.8570047921786704,\n",
       " -0.9001742263065499,\n",
       " -0.9717340325818284,\n",
       " -1.016365495945041,\n",
       " -1.0426455304156912,\n",
       " -1.0520798800370659,\n",
       " -1.0621172439520894,\n",
       " -1.0710919468820186,\n",
       " -1.0758383866414798,\n",
       " -1.079136070131017,\n",
       " -1.0818764490378205,\n",
       " -1.084312608695678,\n",
       " -1.0882241716807886,\n",
       " -1.0934787008350306,\n",
       " -1.096788956278663,\n",
       " -1.0989148500245924,\n",
       " -1.0999722213994392,\n",
       " -1.1015815291101816,\n",
       " -1.10337184085947,\n",
       " -1.104545680619707,\n",
       " -1.1053937330343069,\n",
       " -1.105564012691579,\n",
       " -1.105661940805548,\n",
       " -1.1057540837705828,\n",
       " -1.1058352585356737,\n",
       " -1.105878209280548,\n",
       " -1.1058876727295333,\n",
       " -1.105890300639542,\n",
       " -1.1058933412991507,\n",
       " -1.1058983918471248,\n",
       " -1.1059062300504512,\n",
       " -1.1059140448224236,\n",
       " -1.1059174918828545,\n",
       " -1.1059198681173477,\n",
       " -1.1059214860719846,\n",
       " -1.1059236719236827,\n",
       " -1.1059253962539315,\n",
       " -1.1059263274599722,\n",
       " -1.1059268614216633,\n",
       " -1.105927516096068,\n",
       " -1.1059283187047275,\n",
       " -1.1059288753905716,\n",
       " -1.1059290376218402,\n",
       " -1.1059290640973023,\n",
       " -1.1059290798337749,\n",
       " -1.1059291072797857,\n",
       " -1.1059291550466872,\n",
       " -1.1059292336202238,\n",
       " -1.1059293405162587,\n",
       " -1.1059294051184305,\n",
       " -1.10592948216923,\n",
       " -1.105929549970497,\n",
       " -1.1059296397595868,\n",
       " -1.1059297342341194,\n",
       " -1.105929801937676,\n",
       " -1.1059298344036064,\n",
       " -1.1059298588373003,\n",
       " -1.1059298967368392,\n",
       " -1.105929949877616,\n",
       " -1.1059299937714697,\n",
       " -1.1059300138674448,\n",
       " -1.1059300234501228,\n",
       " -1.1059300377148478,\n",
       " -1.1059300625464743,\n",
       " -1.105930106874855,\n",
       " -1.10593018439013,\n",
       " -1.1059303084166945,\n",
       " -1.1059304427784282,\n",
       " -1.1059305014363856,\n",
       " -1.105930547160761,\n",
       " -1.1059305684668868,\n",
       " -1.1059306031170881,\n",
       " -1.105930659407366,\n",
       " -1.1059307420018394,\n",
       " -1.1059308033182593,\n",
       " -1.1059308289438758,\n",
       " -1.1059308396742447,\n",
       " -1.1059308516685746,\n",
       " -1.1059308727970294,\n",
       " -1.1059309115272962,\n",
       " -1.1059309829038027,\n",
       " -1.1059311125617532,\n",
       " -1.1059313411705514,\n",
       " -1.1059317175485008,\n",
       " -1.1059322430163725,\n",
       " -1.1059326822135835,\n",
       " -1.105933123555429,\n",
       " -1.1059332357878635,\n",
       " -1.1059332461551739,\n",
       " -1.1059332619952835,\n",
       " -1.1059332687106807]"
      ]
     },
     "execution_count": 21,
     "metadata": {},
     "output_type": "execute_result"
    }
   ],
   "source": [
    "hist"
   ]
  },
  {
   "cell_type": "code",
   "execution_count": 22,
   "metadata": {},
   "outputs": [
    {
     "data": {
      "text/plain": [
       "[<matplotlib.lines.Line2D at 0x7f7fe4eaca50>]"
      ]
     },
     "execution_count": 22,
     "metadata": {},
     "output_type": "execute_result"
    },
    {
     "data": {
      "image/png": "[encoded data removed]",
      "text/plain": [
       "<Figure size 432x288 with 1 Axes>"
      ]
     },
     "metadata": {
      "needs_background": "light"
     },
     "output_type": "display_data"
    }
   ],
   "source": [
    "plt.plot(hist)"
   ]
  },
  {
   "cell_type": "code",
   "execution_count": 23,
   "metadata": {},
   "outputs": [
    {
     "data": {
      "text/plain": [
       "[1, 1]"
      ]
     },
     "execution_count": 23,
     "metadata": {},
     "output_type": "execute_result"
    }
   ],
   "source": [
    "[1]*2"
   ]
  },
  {
   "cell_type": "code",
   "execution_count": null,
   "metadata": {},
   "outputs": [],
   "source": []
  }
 ],
 "metadata": {
  "kernelspec": {
   "display_name": "Python 3",
   "language": "python",
   "name": "python3"
  },
  "language_info": {
   "codemirror_mode": {
    "name": "ipython",
    "version": 3
   },
   "file_extension": ".py",
   "mimetype": "text/x-python",
   "name": "python",
   "nbconvert_exporter": "python",
   "pygments_lexer": "ipython3",
   "version": "3.7.7"
  }
 },
 "nbformat": 4,
 "nbformat_minor": 4
}
